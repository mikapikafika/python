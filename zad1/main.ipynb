{
 "cells": [
  {
   "cell_type": "code",
   "execution_count": null,
   "outputs": [],
   "source": [
    "import numpy as np\n",
    "import matplotlib.pyplot as plt\n",
    "import pandas as pd\n",
    "import seaborn as sns"
   ],
   "metadata": {
    "collapsed": false
   }
  },
  {
   "cell_type": "code",
   "execution_count": null,
   "outputs": [],
   "source": [
    "column_names = [\"sex\",\"length\",\"diameter\",\"height\",\"whole weight\",\"shucked weight\",\"viscera weight\",\"shell weight\",\"rings\"]\n",
    "data = pd.read_csv(\"data.csv\",sep=\",\",names=column_names)"
   ],
   "metadata": {
    "collapsed": false
   }
  },
  {
   "cell_type": "code",
   "execution_count": null,
   "outputs": [],
   "source": [
    "gender_quantity = data['sex'].value_counts().reset_index()\n",
    "gender_quantity.columns = [' ', 'count']\n",
    "\n",
    "total_snails = gender_quantity['count'].sum()\n",
    "gender_quantity['%'] = (gender_quantity['count'] / total_snails) * 100\n",
    "gender_quantity['%'] = gender_quantity['%'].round(2)\n",
    "\n",
    "category_counts = gender_quantity.sort_values(by=' ')\n",
    "\n",
    "\n",
    "gender_quantity[' '] = gender_quantity[' '].replace({'M': 'MALE', 'I': 'INFANT', 'F': 'FEMALE'})\n",
    "\n",
    "print(gender_quantity)"
   ],
   "metadata": {
    "collapsed": false
   }
  },
  {
   "cell_type": "markdown",
   "source": [],
   "metadata": {
    "collapsed": false
   }
  },
  {
   "cell_type": "code",
   "execution_count": null,
   "outputs": [],
   "source": [
    "import pandas as pd\n",
    "\n",
    "column_names = [\"sex\", \"length\", \"diameter\", \"height\", \"whole weight\", \"shucked weight\", \"viscera weight\", \"shell weight\", \"rings\"]\n",
    "\n",
    "\n",
    "data_rows = []\n",
    "\n",
    "for variable in column_names[1:]:\n",
    "    name = variable\n",
    "    mean = data[variable].mean()\n",
    "    std = data[variable].std()\n",
    "    minimum = data[variable].min()\n",
    "    q1 = data[variable].quantile(0.25)\n",
    "    median = data[variable].median()\n",
    "    q3 = data[variable].quantile(0.75)\n",
    "    maximum = data[variable].max()\n",
    "    data_rows.append([name, mean, std, minimum, q1, median, q3, maximum])\n",
    "\n",
    "\n",
    "summary_stats = pd.DataFrame(data_rows, columns=[' ', 'mean', 'std', 'min', '25%', '50%', '75%', 'max'])\n",
    "\n",
    "print(summary_stats)\n"
   ],
   "metadata": {
    "collapsed": false
   }
  },
  {
   "cell_type": "code",
   "execution_count": null,
   "outputs": [],
   "source": [
    "sns.countplot(data=data, x='sex')\n",
    "plt.xlabel('gender')\n",
    "plt.ylabel('quantity')\n",
    "plt.show()"
   ],
   "metadata": {
    "collapsed": false
   }
  },
  {
   "cell_type": "code",
   "execution_count": null,
   "outputs": [],
   "source": [
    "fig, plots_req4 = plt.subplots(4, 2, figsize=(14, 12))\n",
    "fig.subplots_adjust(hspace=1)\n",
    "\n",
    "i = 0\n",
    "for variable in column_names[1:]:\n",
    "    row = i // 2\n",
    "    col = i % 2\n",
    "    plots_req4[row, col].hist(data[variable], bins=20, edgecolor='yellow', color='black')\n",
    "    plots_req4[row, col].set_title(f'Histogram of {variable}')\n",
    "    plots_req4[row, col].set_xlabel(variable)\n",
    "    plots_req4[row, col].set_ylabel('Frequency')\n",
    "    i = i+1\n",
    "plt.show()"
   ],
   "metadata": {
    "collapsed": false
   }
  },
  {
   "cell_type": "code",
   "execution_count": null,
   "outputs": [],
   "source": [
    "fig, plots_req5 = plt.subplots(14, 2, figsize=(12, 50))\n",
    "fig.subplots_adjust(hspace=0.75)\n",
    "p = 2\n",
    "i = 0\n",
    "for variable in column_names[1:]:\n",
    "    for variable2 in column_names[p:]:\n",
    "        row = i // 2\n",
    "        col = i % 2\n",
    "        plots_req5[row, col].scatter(data[variable], data[variable2], color='yellow')\n",
    "        plots_req5[row, col].set_title(f'Scatter plot of {variable} to {variable2}')\n",
    "        plots_req5[row, col].set_xlabel(variable)\n",
    "        plots_req5[row, col].set_ylabel(variable2)\n",
    "        i = i+1\n",
    "    p = p+1\n",
    "plt.show()"
   ],
   "metadata": {
    "collapsed": false
   }
  },
  {
   "cell_type": "code",
   "execution_count": null,
   "outputs": [],
   "source": [],
   "metadata": {
    "collapsed": false
   }
  }
 ],
 "metadata": {
  "kernelspec": {
   "display_name": "Python 3",
   "language": "python",
   "name": "python3"
  },
  "language_info": {
   "codemirror_mode": {
    "name": "ipython",
    "version": 2
   },
   "file_extension": ".py",
   "mimetype": "text/x-python",
   "name": "python",
   "nbconvert_exporter": "python",
   "pygments_lexer": "ipython2",
   "version": "2.7.6"
  }
 },
 "nbformat": 4,
 "nbformat_minor": 0
}
